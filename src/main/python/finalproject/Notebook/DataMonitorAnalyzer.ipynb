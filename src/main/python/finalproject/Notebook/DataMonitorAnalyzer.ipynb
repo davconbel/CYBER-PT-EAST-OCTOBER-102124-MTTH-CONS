{
 "cells": [
  {
   "cell_type": "markdown",
   "id": "dc437578-5b1e-4423-9ae8-d7fea5916f95",
   "metadata": {},
   "source": [
    "<h1 style=\"color: blue;\">Notebook to analyze log files from multiple machines</h1>"
   ]
  },
  {
   "cell_type": "markdown",
   "id": "b44bbb91-5bca-41c2-a491-135616dc4e7a",
   "metadata": {},
   "source": [
    "<h2 style=\"color: green;\">Install pyspark</h2>"
   ]
  },
  {
   "cell_type": "code",
   "execution_count": 3,
   "id": "0e9945a5-e840-418e-b257-93382174802a",
   "metadata": {
    "editable": true,
    "slideshow": {
     "slide_type": ""
    },
    "tags": []
   },
   "outputs": [
    {
     "name": "stdout",
     "output_type": "stream",
     "text": [
      "Requirement already satisfied: pyspark in c:\\users\\dcbel\\anaconda3\\lib\\site-packages (3.5.5)Note: you may need to restart the kernel to use updated packages.\n",
      "\n",
      "Requirement already satisfied: py4j==0.10.9.7 in c:\\users\\dcbel\\anaconda3\\lib\\site-packages (from pyspark) (0.10.9.7)\n"
     ]
    }
   ],
   "source": [
    "pip install pyspark"
   ]
  },
  {
   "cell_type": "markdown",
   "id": "85ad2e2c-8726-4849-89ac-b32b9923259c",
   "metadata": {},
   "source": [
    "<h2 style=\"color: green;\">Load Spark libraries and start a unique session</h2>"
   ]
  },
  {
   "cell_type": "code",
   "execution_count": 5,
   "id": "511d4ce7-3cdb-44c2-a2a2-ce0a9e458a9d",
   "metadata": {},
   "outputs": [],
   "source": [
    "import pyspark"
   ]
  },
  {
   "cell_type": "code",
   "execution_count": 6,
   "id": "c7126fe0-4a44-4484-9e8e-ac5b4455cad4",
   "metadata": {
    "editable": true,
    "slideshow": {
     "slide_type": ""
    },
    "tags": []
   },
   "outputs": [],
   "source": [
    "from pyspark.sql import SparkSession"
   ]
  },
  {
   "cell_type": "code",
   "execution_count": 7,
   "id": "d689fb17-8138-4042-8a6c-d4fc46300e89",
   "metadata": {},
   "outputs": [],
   "source": [
    "spark=SparkSession.builder.config(\"spark.driver.host\", \"localhost\").appName('DataMonitorAnalyzer').getOrCreate()"
   ]
  },
  {
   "cell_type": "markdown",
   "id": "3290b0ac-1ca4-4680-8ee8-813587d9c0ac",
   "metadata": {},
   "source": [
    "spark"
   ]
  },
  {
   "cell_type": "markdown",
   "id": "e2568b9a-8520-4bc0-95f3-4e72a9c183f6",
   "metadata": {},
   "source": [
    "<h2 style=\"color: green;\">Load csv files from the common log directory</h2>"
   ]
  },
  {
   "cell_type": "code",
   "execution_count": 10,
   "id": "e569d7eb-ec20-4a0f-8fe2-b74db872be74",
   "metadata": {},
   "outputs": [],
   "source": [
    "df_pyspark=spark.read.format('csv').load(\"C:/Users/dcbel/cybersecurity/monitoroutput\", inferSchema=True, header=True)"
   ]
  },
  {
   "cell_type": "markdown",
   "id": "875df03c-e307-421e-ad64-9cf51ffda1e5",
   "metadata": {},
   "source": [
    "<h2 style=\"color: green;\">Show the first 20 rows of the initial dataframe</h2>"
   ]
  },
  {
   "cell_type": "code",
   "execution_count": 12,
   "id": "76092d32-6329-4cf8-8701-f290b3588d76",
   "metadata": {},
   "outputs": [
    {
     "name": "stdout",
     "output_type": "stream",
     "text": [
      "+-------------------+-------------+--------+------------+--------+-----------------+----------+--------------+------------+--------------------+------------+--------------------+-------------+------------+------------+---------+-----------------+--------------------+\n",
      "|          Timestamp|Computer_Name|Total_MB|Available_MB| Used_MB|CPU_Usage_Percent|Bytes_Sent|Bytes_Received|File_Created|       File_Modified|File_Deleted|         Top_Process|Disk_Total_GB|Disk_Used_GB|Disk_Free_GB|Update_OS|Updates_Available|       Update_Titles|\n",
      "+-------------------+-------------+--------+------------+--------+-----------------+----------+--------------+------------+--------------------+------------+--------------------+-------------+------------+------------+---------+-----------------+--------------------+\n",
      "|2025-04-08 16:52:11|  Main_laptop|32529.69|    13014.23|19515.46|             44.6|      null|          null|        null|                null|        null|                null|        542.7|      277.05|      265.64|     null|             null|                null|\n",
      "|2025-04-08 16:52:12|  Main_laptop|32529.69|     13012.4|19517.29|             20.0|       632|          1612|        null|                null|        null|                null|        542.7|      277.05|      265.64|     null|             null|                null|\n",
      "|2025-04-08 16:52:13|  Main_laptop|32529.69|    13011.97|19517.71|             16.2|         0|           118|        null|                null|        null|                null|        542.7|      277.05|      265.64|     null|             null|                null|\n",
      "|2025-04-08 16:52:14|  Main_laptop|32529.69|    13005.82|19523.87|             17.8|       333|          1377|        null|                null|        null|                null|        542.7|      277.05|      265.64|     null|             null|                null|\n",
      "|2025-04-08 16:52:15|  Main_laptop|32529.69|    13001.19| 19528.5|             23.7|       607|           377|        null|                null|        null|                null|        542.7|      277.05|      265.64|     null|             null|                null|\n",
      "|2025-04-08 16:52:16|  Main_laptop|32529.69|    12987.91|19541.78|             24.6|       141|            60|        null|C:\\Program Files ...|        null|                null|        542.7|      277.05|      265.64|     null|             null|                null|\n",
      "|2025-04-08 16:52:17|  Main_laptop|32529.69|    12973.66|19556.02|             16.6|     32958|         81364|        null|C:\\Program Files ...|        null|('WmiPrvSE.exe', ...|        542.7|      277.05|      265.64|     null|             null|                null|\n",
      "|2025-04-08 16:52:18|  Main_laptop|32529.69|    12968.05|19561.64|             26.1|      2449|         25189|        null|C:\\Program Files ...|        null|('WmiPrvSE.exe', ...|        542.7|      277.05|      265.64|     null|             null|                null|\n",
      "|2025-04-08 16:52:19|  Main_laptop|32529.69|     12962.7|19566.99|             19.2|     69152|       1814537|        null|C:\\Program Files ...|        null|('WmiPrvSE.exe', ...|        542.7|      277.05|      265.64|     null|             null|                null|\n",
      "|2025-04-08 16:52:20|  Main_laptop|32529.69|     12853.2|19676.48|             38.2|       714|         12203|        null|C:\\Program Files ...|        null|('WmiPrvSE.exe', ...|        542.7|      277.05|      265.64|     null|             null|                null|\n",
      "|2025-04-08 16:52:21|  Main_laptop|32529.69|    12835.18|19694.51|             49.6|      8343|         11232|        null|C:\\Program Files ...|        null|('svchost.exe', '...|        542.7|      277.05|      265.64|     null|             null|                null|\n",
      "|2025-04-08 16:52:22|  Main_laptop|32529.69|    12846.12|19683.57|             32.4|       176|            98|        null|C:\\Program Files ...|        null|('svchost.exe', '...|        542.7|      277.05|      265.64|     null|             null|                null|\n",
      "|2025-04-08 16:52:24|  Main_laptop|32529.69|    12902.59| 19627.1|             41.5|       334|          1240|        null|C:\\Program Files ...|        null|('svchost.exe', '...|        542.7|      277.05|      265.64|     null|             null|                null|\n",
      "|2025-04-08 16:52:25|  Main_laptop|32529.69|    12940.02|19589.67|             27.0|       326|           224|        null|C:\\Program Files ...|        null|('python.exe', 's...|        542.7|      277.05|      265.64|  Windows|                3|Security Intellig...|\n",
      "|2025-04-08 16:52:26|  Main_laptop|32529.69|    12933.07|19596.62|             12.8|      9186|         13977|        null|C:\\Program Files ...|        null|('python.exe', 's...|        542.7|      277.05|      265.64|  Windows|                3|Security Intellig...|\n",
      "|2025-04-08 16:52:27|  Main_laptop|32529.69|    12932.16|19597.52|             22.0|       459|          1531|        null|C:\\Program Files ...|        null|('python.exe', 's...|        542.7|      277.06|      265.64|  Windows|                3|Security Intellig...|\n",
      "|2025-04-08 16:52:28|  Main_laptop|32529.69|    12925.52|19604.16|             17.0|     10359|          8423|        null|C:\\Program Files ...|        null|('python.exe', 's...|        542.7|      277.06|      265.64|  Windows|                3|Security Intellig...|\n",
      "|2025-04-08 16:52:29|  Main_laptop|32529.69|    12919.78|19609.91|             13.0|       163|          1337|        null|C:\\Program Files ...|        null|('svchost.exe', '...|        542.7|      277.06|      265.64|  Windows|                3|Security Intellig...|\n",
      "|2025-04-08 16:52:30|  Main_laptop|32529.69|    12923.91|19605.77|             33.9|       803|           617|        null|C:\\Program Files ...|        null|('svchost.exe', '...|        542.7|      277.06|      265.64|  Windows|                3|Security Intellig...|\n",
      "|2025-04-08 16:52:31|  Main_laptop|32529.69|    12896.83|19632.86|             45.7|      7889|         19451|        null|C:\\Program Files ...|        null|('svchost.exe', '...|        542.7|      277.06|      265.64|  Windows|                3|Security Intellig...|\n",
      "+-------------------+-------------+--------+------------+--------+-----------------+----------+--------------+------------+--------------------+------------+--------------------+-------------+------------+------------+---------+-----------------+--------------------+\n",
      "only showing top 20 rows\n",
      "\n"
     ]
    }
   ],
   "source": [
    "df_pyspark.show(20)"
   ]
  },
  {
   "cell_type": "markdown",
   "id": "dc7acba6-7f7a-42d6-b477-275382df2f7d",
   "metadata": {},
   "source": [
    "<h2 style=\"color: green;\">Print the datatypes for each column</h2>"
   ]
  },
  {
   "cell_type": "code",
   "execution_count": 14,
   "id": "76fa4ff5-8078-4961-b990-58ff0a59dabf",
   "metadata": {},
   "outputs": [
    {
     "name": "stdout",
     "output_type": "stream",
     "text": [
      "root\n",
      " |-- Timestamp: string (nullable = true)\n",
      " |-- Computer_Name: string (nullable = true)\n",
      " |-- Total_MB: double (nullable = true)\n",
      " |-- Available_MB: double (nullable = true)\n",
      " |-- Used_MB: double (nullable = true)\n",
      " |-- CPU_Usage_Percent: double (nullable = true)\n",
      " |-- Bytes_Sent: integer (nullable = true)\n",
      " |-- Bytes_Received: integer (nullable = true)\n",
      " |-- File_Created: string (nullable = true)\n",
      " |-- File_Modified: string (nullable = true)\n",
      " |-- File_Deleted: string (nullable = true)\n",
      " |-- Top_Process: string (nullable = true)\n",
      " |-- Disk_Total_GB: double (nullable = true)\n",
      " |-- Disk_Used_GB: double (nullable = true)\n",
      " |-- Disk_Free_GB: double (nullable = true)\n",
      " |-- Update_OS: string (nullable = true)\n",
      " |-- Updates_Available: integer (nullable = true)\n",
      " |-- Update_Titles: string (nullable = true)\n",
      "\n"
     ]
    }
   ],
   "source": [
    "df_pyspark.printSchema()"
   ]
  },
  {
   "cell_type": "markdown",
   "id": "33ffc6e0-4994-432e-a7f2-01112de94487",
   "metadata": {},
   "source": [
    "<h2 style=\"color: green;\">Print the column names</h2>"
   ]
  },
  {
   "cell_type": "code",
   "execution_count": 16,
   "id": "8305bf9b-a7f2-4454-b71b-ac1d1a094494",
   "metadata": {},
   "outputs": [
    {
     "data": {
      "text/plain": [
       "['Timestamp',\n",
       " 'Computer_Name',\n",
       " 'Total_MB',\n",
       " 'Available_MB',\n",
       " 'Used_MB',\n",
       " 'CPU_Usage_Percent',\n",
       " 'Bytes_Sent',\n",
       " 'Bytes_Received',\n",
       " 'File_Created',\n",
       " 'File_Modified',\n",
       " 'File_Deleted',\n",
       " 'Top_Process',\n",
       " 'Disk_Total_GB',\n",
       " 'Disk_Used_GB',\n",
       " 'Disk_Free_GB',\n",
       " 'Update_OS',\n",
       " 'Updates_Available',\n",
       " 'Update_Titles']"
      ]
     },
     "execution_count": 16,
     "metadata": {},
     "output_type": "execute_result"
    }
   ],
   "source": [
    "df_pyspark.columns"
   ]
  },
  {
   "cell_type": "markdown",
   "id": "61f11b8a-df85-4d53-9298-9dcf6a864535",
   "metadata": {},
   "source": [
    "<h2 style=\"color: blue;\">Create a new dataframe with the original update columns</h2>\n",
    "<p style=\"color: red;\">Add computer name, type of OS, how many updates are available and the title of the udate. Remove duplicates and null entries.</p>"
   ]
  },
  {
   "cell_type": "code",
   "execution_count": 18,
   "id": "e6217966-2566-4b7b-9ff4-1474bc56ec5a",
   "metadata": {},
   "outputs": [],
   "source": [
    "df_updates = df_pyspark.select('Computer_Name', 'Update_OS', 'Updates_Available', 'Update_Titles')"
   ]
  },
  {
   "cell_type": "markdown",
   "id": "e703e0b3-d3aa-482c-aee5-5b074c7e8617",
   "metadata": {},
   "source": [
    "<h2 style=\"color: green;\"> Remove duplicates and null data</h2>"
   ]
  },
  {
   "cell_type": "code",
   "execution_count": 20,
   "id": "55c8f442-4833-468b-9e13-b8583aed063a",
   "metadata": {},
   "outputs": [],
   "source": [
    "df_updates = df_updates.distinct().na.drop(how=\"any\",thresh=2)"
   ]
  },
  {
   "cell_type": "markdown",
   "id": "ee060a94-a4c4-4dcc-a04a-97d382abd38a",
   "metadata": {},
   "source": [
    "<h3 style=\"color: red;\"> Write data to disk</h3>"
   ]
  },
  {
   "cell_type": "code",
   "execution_count": 22,
   "id": "34ff69ee-62bf-4ae2-a306-25450a4dad4d",
   "metadata": {},
   "outputs": [],
   "source": [
    "df_updates.coalesce(1).write.option(\"header\", True) \\\n",
    "                      .option(\"sep\", \",\") \\\n",
    "                      .mode(\"overwrite\") \\\n",
    "                      .csv(\"C:/Users/dcbel/cybersecurity/output/updates\")"
   ]
  },
  {
   "cell_type": "markdown",
   "id": "55e1b24e-a96a-44d7-912a-71f301cd9fcc",
   "metadata": {},
   "source": [
    "<h2 style=\"color: green;\">Show the new dataframe for easy analysis.</h2>"
   ]
  },
  {
   "cell_type": "code",
   "execution_count": 24,
   "id": "bc8d7004-2016-42d3-9268-432daeb64126",
   "metadata": {},
   "outputs": [
    {
     "name": "stdout",
     "output_type": "stream",
     "text": [
      "+---------------+---------+-----------------+-------------------------------------------------------------------------------------------------------------------------------------------------------------------------------------------------------------------------------------------------------------------------------------------------------------------------------+\n",
      "|Computer_Name  |Update_OS|Updates_Available|Update_Titles                                                                                                                                                                                                                                                                                                                  |\n",
      "+---------------+---------+-----------------+-------------------------------------------------------------------------------------------------------------------------------------------------------------------------------------------------------------------------------------------------------------------------------------------------------------------------------+\n",
      "|Main_laptop    |Windows  |3                |Security Intelligence Update for Microsoft Defender Antivirus - KB2267602 (Version 1.427.136.0) - Current Channel (Broad), 2025-04 Cumulative Update for .NET Framework 3.5 and 4.8.1 for Windows 11, version 24H2 for x64 (KB5054979), 2025-04 Cumulative Update for Windows 11 Version 24H2 for x64-based Systems (KB5055523)|\n",
      "|DESKTOP-OF30OEI|Windows  |1                |Security Intelligence Update for Microsoft Defender Antivirus - KB2267602 (Version 1.427.3.0) - Current Channel (Broad)                                                                                                                                                                                                        |\n",
      "|gandalf        |Linux    |8                |iputils-ping, ipython3, iso-codes, isympy-common, isympy3, java-common, java-wrappers, john-data,                                                                                                                                                                                                                              |\n",
      "|Dell300        |Windows  |0                |No updates available                                                                                                                                                                                                                                                                                                           |\n",
      "|WIN_MIDDLEWARE |Windows  |1                |Security Intelligence Update for Microsoft Defender Antivirus - KB2267602 (Version 1.427.369.0) - Current Channel (Broad)                                                                                                                                                                                                      |\n",
      "+---------------+---------+-----------------+-------------------------------------------------------------------------------------------------------------------------------------------------------------------------------------------------------------------------------------------------------------------------------------------------------------------------------+\n",
      "\n"
     ]
    }
   ],
   "source": [
    "df_updates.show(truncate=False)"
   ]
  },
  {
   "cell_type": "markdown",
   "id": "434af567-715d-4c7c-b64f-2ae3899ea121",
   "metadata": {},
   "source": [
    "<h2 style=\"color: red;\">Generate 2 new columns that will have the usage percentage of RAM and disk</h2>"
   ]
  },
  {
   "cell_type": "code",
   "execution_count": 26,
   "id": "d7518e99-8cf8-422c-bb1e-efc4658152ec",
   "metadata": {},
   "outputs": [],
   "source": [
    "df_pyspark = df_pyspark.withColumn('RAM_Used_Percent', (df_pyspark['Used_MB']/df_pyspark['Total_MB'])*100)"
   ]
  },
  {
   "cell_type": "code",
   "execution_count": 27,
   "id": "5318b232-045c-46a5-afdf-5782abee92ef",
   "metadata": {},
   "outputs": [],
   "source": [
    "df_pyspark = df_pyspark.withColumn('Disk_Used_Percent', (df_pyspark['Disk_Used_GB']/df_pyspark['Disk_Total_GB'])*100)"
   ]
  },
  {
   "cell_type": "markdown",
   "id": "9faadaed-6284-4af1-89c0-41c92b724b8f",
   "metadata": {},
   "source": [
    "<h2 style=\"color: blue;\">Create a new dataframe that will include:</h2>\n",
    "    <ol>\n",
    "       <li>Computer_Name</li> <li>Total_MB</li> <li>Used_MB</li> <li>RAM Used%</li> <li>CPU_Usage_Percent</li> <li>Bytes_Sent</li> <li>Bytes_Received</li> <li>Top_Process</li> <li>Disk Used %</li> </ol> \n",
    "    "
   ]
  },
  {
   "cell_type": "code",
   "execution_count": 29,
   "id": "b597d16f-dc71-44a5-84b1-73bd06e0507c",
   "metadata": {},
   "outputs": [],
   "source": [
    "df = df_pyspark.select('Computer_Name', 'RAM_Used_Percent', 'CPU_Usage_Percent', 'Bytes_Sent', 'Bytes_Received', 'Top_Process', 'Disk_Used_Percent')"
   ]
  },
  {
   "cell_type": "code",
   "execution_count": 30,
   "id": "6b31275d-fb6c-4486-b236-1817b34a475d",
   "metadata": {},
   "outputs": [],
   "source": [
    "df = df.orderBy(df.CPU_Usage_Percent.desc(),df.RAM_Used_Percent.desc())"
   ]
  },
  {
   "cell_type": "markdown",
   "id": "10e983bf-d63e-4c57-968d-b78522cb443f",
   "metadata": {},
   "source": [
    "<h3 style=\"color: red;\"> Write data to disk</h3>"
   ]
  },
  {
   "cell_type": "code",
   "execution_count": 32,
   "id": "9c82c5dc-90dd-4dfd-a8e5-c9dc253281dd",
   "metadata": {},
   "outputs": [],
   "source": [
    "df.coalesce(1).write.option(\"header\", True) \\\n",
    "                      .option(\"sep\", \",\") \\\n",
    "                      .mode(\"overwrite\") \\\n",
    "                      .csv(\"C:/Users/dcbel/cybersecurity/output/systemwatch\")"
   ]
  },
  {
   "cell_type": "code",
   "execution_count": 33,
   "id": "7c507725-26b1-441c-8f15-60424d10f193",
   "metadata": {},
   "outputs": [
    {
     "name": "stdout",
     "output_type": "stream",
     "text": [
      "+---------------+------------------+-----------------+----------+--------------+--------------------+------------------+\n",
      "|  Computer_Name|  RAM_Used_Percent|CPU_Usage_Percent|Bytes_Sent|Bytes_Received|         Top_Process| Disk_Used_Percent|\n",
      "+---------------+------------------+-----------------+----------+--------------+--------------------+------------------+\n",
      "|DESKTOP-OF30OEI| 50.79550404568872|             97.3|    297145|      12050240|('OneDrive.exe', ...|59.791781831582824|\n",
      "|DESKTOP-OF30OEI|51.437133277322964|             93.8|    420637|      12289641|('OneDrive.exe', ...|59.795467108899935|\n",
      "| WIN_MIDDLEWARE|  79.2678011994581|             89.6|     10419|         79845|('Code.exe', 'Sys...| 53.91249861781726|\n",
      "|DESKTOP-OF30OEI| 51.16396744020616|             86.0|    428035|      12744903|('WmiPrvSE.exe', ...| 59.87101529390087|\n",
      "|        gandalf|  47.8417466629518|             85.7|     10318|         47634|('Xorg', 'file://...| 93.81054897739506|\n",
      "| WIN_MIDDLEWARE| 80.26596626036093|             83.7|      8931|         20330|('Code.exe', 'Wmi...| 53.91249861781726|\n",
      "|        gandalf| 56.95651072667866|             79.3|     14662|         45457|('Xorg', 'Isolate...| 93.86437029063511|\n",
      "|DESKTOP-OF30OEI| 53.14898481971393|             78.8|     92634|       2720215|('python.exe', 'W...| 59.94287820158466|\n",
      "|DESKTOP-OF30OEI| 50.38676974788263|             77.5|    446060|      11981861|('OneDrive.exe', ...| 59.78625391560715|\n",
      "|        gandalf| 59.70213520427548|             77.4|     12272|        100260|('Xorg', 'Isolate...| 93.86437029063511|\n",
      "|DESKTOP-OF30OEI| 51.71076023165298|             76.0|    210292|      10270137|('OneDrive.exe', ...|59.797309747558494|\n",
      "|DESKTOP-OF30OEI| 51.46058877290255|             74.7|    310150|      12003662|('WmiPrvSE.exe', ...| 59.80283766353418|\n",
      "|DESKTOP-OF30OEI|51.186931077424966|             74.6|    259346|      10689170|('WmiPrvSE.exe', ...|59.804680302192736|\n",
      "|DESKTOP-OF30OEI| 52.94541694064715|             74.4|    190360|        425290|('python.exe', 'W...| 59.94287820158466|\n",
      "|DESKTOP-OF30OEI|  51.3597885500907|             73.6|    422238|      12879422|('WmiPrvSE.exe', ...| 59.87470057121798|\n",
      "|DESKTOP-OF30OEI| 51.87639353464482|             73.2|     55033|       2494949|('WmiPrvSE.exe', ...| 59.91708126036484|\n",
      "|        gandalf|  56.8212557939262|             72.2|     12566|         57603|('Isolated Web Co...| 93.86437029063511|\n",
      "|    Main_laptop|62.219498556549425|             72.0|     15823|         20636|('WmiPrvSE.exe', ...| 51.05214667403721|\n",
      "|DESKTOP-OF30OEI|49.358201692054244|             71.5|     10979|         10852|('python.exe', 'O...| 59.78072599963147|\n",
      "|        gandalf| 54.89273321344443|             71.3|      6430|        918335|('Privileged Cont...| 93.91819160387513|\n",
      "+---------------+------------------+-----------------+----------+--------------+--------------------+------------------+\n",
      "only showing top 20 rows\n",
      "\n"
     ]
    }
   ],
   "source": [
    "df.show()"
   ]
  },
  {
   "cell_type": "markdown",
   "id": "79285fef-c086-4b9a-8f57-057553420c7f",
   "metadata": {},
   "source": [
    "<h2 style=\"color: blue;\"> Create new dataframe only with the file handler information</h2>"
   ]
  },
  {
   "cell_type": "code",
   "execution_count": 35,
   "id": "aa74e5bc-0537-4138-90cc-d9206aa362b5",
   "metadata": {},
   "outputs": [],
   "source": [
    "df_files = df_pyspark.select('Computer_Name', 'File_Created', 'File_Modified', 'File_Deleted')"
   ]
  },
  {
   "cell_type": "markdown",
   "id": "c495478c-49ed-495f-ac3b-e253a8fbbe84",
   "metadata": {},
   "source": [
    "<h2 style=\"color: green;\">Order data by column files created</h2>"
   ]
  },
  {
   "cell_type": "code",
   "execution_count": 37,
   "id": "57031dd8-b538-4daa-b5c7-a37b95015800",
   "metadata": {},
   "outputs": [],
   "source": [
    "df_files = df_files.orderBy(df_files.File_Created.desc())"
   ]
  },
  {
   "cell_type": "code",
   "execution_count": 38,
   "id": "5e471ac5-2dfe-4d87-a466-7fc30af0c827",
   "metadata": {},
   "outputs": [],
   "source": [
    "df_files = df_files.distinct().na.drop(how=\"any\",thresh=1)"
   ]
  },
  {
   "cell_type": "code",
   "execution_count": 39,
   "id": "f6d980f8-e99d-4a2f-a99f-a82d2401bef0",
   "metadata": {},
   "outputs": [
    {
     "name": "stdout",
     "output_type": "stream",
     "text": [
      "+-------------+------------+-----------------------------------------------------------------------------------------------------------------------------------------------+------------+\n",
      "|Computer_Name|File_Created|File_Modified                                                                                                                                  |File_Deleted|\n",
      "+-------------+------------+-----------------------------------------------------------------------------------------------------------------------------------------------+------------+\n",
      "|Main_laptop  |null        |C:\\Program Files \\Microsoft Visual Studio\\2022\\Community\\Common7\\IDE\\Blend.exe                                                                 |null        |\n",
      "|Main_laptop  |null        |C:\\Program Files \\Microsoft SQL Server\\Client SDK\\ODBC\\170\\Tools\\Binn                                                                          |null        |\n",
      "|Main_laptop  |null        |C:\\Program Files \\Oracle\\VirtualBox\\VirtualBoxVM.dll                                                                                           |null        |\n",
      "|Main_laptop  |null        |C:\\Program Files \\Git\\ReleaseNotes.html                                                                                                        |null        |\n",
      "|Main_laptop  |null        |C:\\Program Files \\WSL\\wslsettings                                                                                                              |null        |\n",
      "|Main_laptop  |null        |C:\\Program Files \\Oracle\\VirtualBox\\VBoxDD.dll                                                                                                 |null        |\n",
      "|Main_laptop  |null        |C:\\Program Files \\Internet Explorer\\iexplore.exe                                                                                               |null        |\n",
      "|Main_laptop  |null        |C:\\Program Files \\WindowsApps\\Microsoft.UI.Xaml.2.8_8.2501.31001.0_x64__8wekyb3d8bbwe\\resources.pri                                            |null        |\n",
      "|Main_laptop  |null        |C:\\Program Files \\Microsoft Office\\root\\Client\\AppVLP.exe                                                                                      |null        |\n",
      "|Main_laptop  |null        |C:\\Program Files \\Oracle\\VirtualBox\\ExtensionPacks\\Oracle_VirtualBox_Extension_Pack\\win.amd64\\VDPluginCrypt.dll                                |null        |\n",
      "|Main_laptop  |null        |null                                                                                                                                           |null        |\n",
      "|Main_laptop  |null        |C:\\Program Files \\WindowsApps\\Deleted\\Microsoft.ZuneMusic_11.2501.9.0_x64__8wekyb3d8bbwec33eb9ac-ff1e-4fff-ab10-59ba32c3305d\\clrcompression.dll|null        |\n",
      "|Main_laptop  |null        |C:\\Program Files \\WindowsApps\\Microsoft.OneConnect_5.2411.7018.0_neutral_split.scale-100_8wekyb3d8bbwe\\resources.pri                           |null        |\n",
      "|Main_laptop  |null        |C:\\Program Files \\Oracle\\VirtualBox\\VBoxGuestPropSvc.dll                                                                                       |null        |\n",
      "|Main_laptop  |null        |C:\\Program Files \\Windows Defender\\en-US\\EppManifest.dll.mui                                                                                   |null        |\n",
      "|Main_laptop  |null        |C:\\Program Files \\Oracle\\VirtualBox\\VirtualBoxVM.exe                                                                                           |null        |\n",
      "|Main_laptop  |null        |C:\\Program Files \\WindowsApps\\Microsoft.Copilot_1.25032.167.0_x64__8wekyb3d8bbwe\\Assets                                                        |null        |\n",
      "|Main_laptop  |null        |C:\\Program Files \\WindowsApps\\Microsoft.WindowsTerminal_1.22.10731.0_x64__8wekyb3d8bbwe\\CascadiaMono.ttf                                       |null        |\n",
      "|Main_laptop  |null        |C:\\Program Files \\Microsoft Office\\root\\Office16\\POWERPNT.EXE                                                                                  |null        |\n",
      "|Main_laptop  |null        |C:\\Program Files \\Oracle\\VirtualBox\\VBoxSDS.exe                                                                                                |null        |\n",
      "+-------------+------------+-----------------------------------------------------------------------------------------------------------------------------------------------+------------+\n",
      "only showing top 20 rows\n",
      "\n"
     ]
    }
   ],
   "source": [
    "df_files.show(truncate=False)"
   ]
  },
  {
   "cell_type": "markdown",
   "id": "fe8c67bd-2d09-49d9-affc-100dc47a7e1d",
   "metadata": {},
   "source": [
    "<h3 style=\"color: red;\">Write data to disk</h3>"
   ]
  },
  {
   "cell_type": "code",
   "execution_count": 41,
   "id": "829cfadc-947a-41d4-80ee-88c335238adf",
   "metadata": {},
   "outputs": [],
   "source": [
    "df_files.coalesce(1).write.option(\"header\", True) \\\n",
    "                      .option(\"sep\", \",\") \\\n",
    "                      .mode(\"overwrite\") \\\n",
    "                      .csv(\"C:/Users/dcbel/cybersecurity/output/filewatcher\")"
   ]
  },
  {
   "cell_type": "code",
   "execution_count": null,
   "id": "fa96adad-da9b-400e-a7ea-4f2cb533d5b0",
   "metadata": {},
   "outputs": [],
   "source": []
  },
  {
   "cell_type": "code",
   "execution_count": null,
   "id": "297d90d9-1592-416b-a0f2-0b15ae5782b2",
   "metadata": {},
   "outputs": [],
   "source": []
  }
 ],
 "metadata": {
  "kernelspec": {
   "display_name": "Python 3 (ipykernel)",
   "language": "python",
   "name": "python3"
  },
  "language_info": {
   "codemirror_mode": {
    "name": "ipython",
    "version": 3
   },
   "file_extension": ".py",
   "mimetype": "text/x-python",
   "name": "python",
   "nbconvert_exporter": "python",
   "pygments_lexer": "ipython3",
   "version": "3.12.4"
  }
 },
 "nbformat": 4,
 "nbformat_minor": 5
}
